{
 "cells": [
  {
   "cell_type": "markdown",
   "metadata": {
    "colab_type": "text",
    "id": "yoj3v7b5Nciw"
   },
   "source": [
    "# <center>Report of practical part of Assignment 2</center>\n",
    "# <center>IFT6135-H19</center>\n",
    "\n",
    "This file is used to generate the report for problem1-5 of practical part of assignment2.\n",
    "\n",
    "Key codes are also included in this file. To review the whole codes for each problem, please turn to:\n",
    "\n",
    "- models.py: implementation of RNN, GRU, TRANSFORMER for problem1-3; methods for generating sequences by RNN and GRU are also implemented in this file\n",
    "- problem4.ipynb: codes for problem4\n",
    "- problem5.ipynb codes for problem5\n",
    "- helpers.py: including methods originally in ptb-lm.py, like `ptb_iterator`, etc.\n",
    "\n",
    "in: https://github.com/qqiang00/IFT6135/blob/master/hw2/\n",
    "\n",
    "\n",
    "**Team member**: \n",
    "- Qiang Ye (20139927)\n",
    "- Ying Xiao (20111402)\n",
    "- Boumaza Amel (20126028)\n",
    "- Yunhe Li (20137167)"
   ]
  },
  {
   "cell_type": "code",
   "execution_count": null,
   "metadata": {
    "colab": {
     "base_uri": "https://localhost:8080/",
     "height": 35
    },
    "colab_type": "code",
    "executionInfo": {
     "elapsed": 22230,
     "status": "ok",
     "timestamp": 1553286346485,
     "user": {
      "displayName": "Qiang YE",
      "photoUrl": "https://lh6.googleusercontent.com/-k-9mYNphfpc/AAAAAAAAAAI/AAAAAAAAARQ/zyID3sFntfM/s64/photo.jpg",
      "userId": "15200210150486633975"
     },
     "user_tz": 240
    },
    "id": "IvGFIzH4_wnQ",
    "outputId": "5f478ec7-0bd4-4fae-850b-adfd71ca1678"
   },
   "outputs": [],
   "source": [
    "from os.path import exists\n",
    "from google.colab import drive\n",
    "import os\n",
    "drive.mount('/content/dirve/', force_remount = True)\n",
    "# change to your own directory\n",
    "os.chdir(\"dirve/My Drive/Colab Notebooks/IFT6135/hw2/\")\n",
    "#!ls -al\n",
    "from IPython.display import Image"
   ]
  },
  {
   "cell_type": "markdown",
   "metadata": {
    "colab_type": "text",
    "heading_collapsed": true,
    "id": "cR2zB2G6dEEm"
   },
   "source": [
    "## Problem 1-3\n",
    "\n",
    "For Problems 1-3, paste the code for the RNN, GRU, and Multi-Head attention rspectively in your report, in a monospace font."
   ]
  },
  {
   "cell_type": "markdown",
   "metadata": {
    "colab_type": "text",
    "hidden": true,
    "id": "kXabJvsIenji"
   },
   "source": [
    "### Problem 1\n",
    "\n",
    "We built an internal class `RNN_Unit` manipulating tensor for layer over times. The whole implementation for `RNN` is as follows:\n",
    "```python\n",
    "class RNN(nn.Module): # Implement a stacked vanilla RNN with Tanh nonlinearities.\n",
    "\n",
    "  class RNN_Unit(nn.Module):\n",
    "    def __init__(self, input_size, hidden_size):\n",
    "      super(RNN.RNN_Unit, self).__init__()\n",
    "      self.input_size = input_size\n",
    "      self.hidden_size = hidden_size\n",
    "      self.i2h = nn.Linear(input_size + hidden_size, hidden_size)\n",
    "\n",
    "    def init_weights(self, k = None):\n",
    "        if k is None:\n",
    "            k = 1. / math.sqrt(self.hidden_size)\n",
    "\n",
    "        nn.init.uniform_(self.i2h.weight, -1 * k, k)\n",
    "        nn.init.uniform_(self.i2h.bias, -1 * k, k)\n",
    "\n",
    "    def forward(self, input):\n",
    "      return torch.tanh(self.i2h(input))\n",
    "\n",
    "\n",
    "  def __init__(self, emb_size, hidden_size, seq_len, batch_size, vocab_size, \n",
    "               num_layers, dp_keep_prob):\n",
    "    \"\"\"\n",
    "    emb_size:     The numvwe of units in the input embeddings\n",
    "    hidden_size:  The number of hidden units per layer\n",
    "    seq_len:      The length of the input sequences\n",
    "    vocab_size:   The number of tokens in the vocabulary (10,000 for Penn TreeBank)\n",
    "    num_layers:   The depth of the stack (i.e. the number of hidden layers at \n",
    "                  each time-step)\n",
    "    dp_keep_prob: The probability of *not* dropping out units in the \n",
    "                  non-recurrent connections.\n",
    "                  Do not apply dropout on recurrent connections.\n",
    "    \"\"\"\n",
    "    super(RNN, self).__init__()\n",
    "\n",
    "    self.emb_size = emb_size\n",
    "    self.hidden_size = hidden_size\n",
    "    self.seq_len = seq_len\n",
    "    self.batch_size = batch_size\n",
    "    self.vocab_size = vocab_size\n",
    "    self.num_layers = num_layers\n",
    "    self.dp_keep_prob = dp_keep_prob\n",
    "    self.i2e = nn.Embedding(vocab_size, emb_size) \n",
    "    self.h2o = nn.Linear(hidden_size, vocab_size)\n",
    "\n",
    "    self.rnn_units = nn.ModuleList([])\n",
    "    self.dropout = nn.Dropout(1 - dp_keep_prob)\n",
    "    for i in range(num_layers):\n",
    "      input_size = emb_size if i == 0 else hidden_size\n",
    "      self.rnn_units.append(RNN.RNN_Unit(input_size, hidden_size))\n",
    "\n",
    "    self.init_weights() # need this to initialize weights?\n",
    "    return \n",
    "\n",
    "  def init_weights(self):\n",
    "    # Initialize the embedding and output weights uniformly in the range [-0.1, 0.1]\n",
    "    # and the embedding and output biases to 0 (in place).\n",
    "    # Initialize all other (i.e. recurrent and linear) weights AND biases uniformly \n",
    "    # in the range [-k, k] where k is the square root of 1/hidden_size\n",
    "    nn.init.uniform_(self.i2e.weight, -0.1, 0.1)\n",
    "    nn.init.uniform_(self.h2o.weight, -0.1, 0.1)\n",
    "    nn.init.zeros_(self.h2o.bias)\n",
    "    k = 1. / math.sqrt(self.hidden_size)\n",
    "    for i in range(self.num_layers):\n",
    "      self.rnn_units[i].init_weights(k)\n",
    "      \n",
    "  def init_hidden(self):\n",
    "    # initialize the hidden states to zero\n",
    "    \"\"\"\n",
    "    This is used for the first mini-batch in an epoch, only.\n",
    "    \"\"\"\n",
    "    hidden = torch.zeros(self.num_layers, self.batch_size, self.hidden_size)\n",
    "    return hidden.requires_grad_()\n",
    "    # a parameter tensor of shape (self.num_layers, self.batch_size, self.hidden_size)\n",
    "\n",
    "  def forward(self, inputs, hidden):\n",
    "    # Compute the forward pass, using nested python for loops.\n",
    "    # The outer for loop should iterate over timesteps, and the \n",
    "    # inner for loop should iterate over hidden layers of the stack. \n",
    "    # \n",
    "    # Within these for loops, use the parameter tensors and/or nn.modules you \n",
    "    # created in __init__ to compute the recurrent updates according to the \n",
    "    # equations provided in the .tex of the assignment.\n",
    "    #\n",
    "    # Note that those equations are for a single hidden-layer RNN, not a stacked\n",
    "    # RNN. For a stacked RNN, the hidden states of the l-th layer are used as \n",
    "    # inputs to to the {l+1}-st layer (taking the place of the input sequence).\n",
    "\n",
    "    \"\"\"\n",
    "    Arguments:\n",
    "        - inputs: A mini-batch of input sequences, composed of integers that \n",
    "                    represent the index of the current token(s) in the vocabulary.\n",
    "                        shape: (seq_len, batch_size)\n",
    "        - hidden: The initial hidden states for every layer of the stacked RNN.\n",
    "                        shape: (num_layers, batch_size, hidden_size)\n",
    "    \n",
    "    Returns:\n",
    "        - Logits for the softmax over output tokens at every time-step.\n",
    "              **Do NOT apply softmax to the outputs!**\n",
    "              Pytorch's CrossEntropyLoss function (applied in ptb-lm.py) does \n",
    "              this computation implicitly.\n",
    "                    shape: (seq_len, batch_size, vocab_size)\n",
    "        - The final hidden states for every layer of the stacked RNN.\n",
    "              These will be used as the initial hidden states for all the \n",
    "              mini-batches in an epoch, except for the first, where the return \n",
    "              value of self.init_hidden will be used.\n",
    "              See the repackage_hiddens function in ptb-lm.py for more details, \n",
    "              if you are curious.\n",
    "                    shape: (num_layers, batch_size, hidden_size)\n",
    "    \"\"\"\n",
    "    seq_len = inputs.size(0) # (seq_len, batch_size)\n",
    "    outputs_seqs = [] # list of output for each word in seq\n",
    "    for i in range(seq_len):# iterate over seq\n",
    "        embedded = self.dropout(self.i2e(inputs[i,:])) # (batch_size, emb_size)\n",
    "        #print(\"embedded.shape:\", embedded.shape)\n",
    "        # size of each recurrent hidden layer output is (batch_size, hidden_size)\n",
    "        output_cur_layer = None\n",
    "        hs = [] # hidden states of each recurrent layer\n",
    "        for j in range(self.num_layers): # more than 1 recurrent hidden layer\n",
    "            input_cur_layer = embedded if j == 0 else output_cur_layer # \n",
    "            combined = torch.cat((input_cur_layer, hidden[j,:,:]), 1)\n",
    "            hidden_cur_layer = self.rnn_units[j](combined) \n",
    "            output_cur_layer = self.dropout(hidden_cur_layer)\n",
    "            hs.append(torch.unsqueeze(hidden_cur_layer, 0))\n",
    "        \n",
    "        output_cur_layer = self.h2o(output_cur_layer)\n",
    "        hidden = torch.cat(hs, 0) # new hidden for next word in seq\n",
    "        outputs_seqs.append(torch.unsqueeze(output_cur_layer, 0))\n",
    "    \n",
    "    logits = torch.cat(outputs_seqs, 0)\n",
    "    return logits.view(self.seq_len, self.batch_size, self.vocab_size), hidden\n",
    "```"
   ]
  },
  {
   "cell_type": "markdown",
   "metadata": {
    "colab_type": "text",
    "hidden": true,
    "id": "YvBNCUKHe3FB"
   },
   "source": [
    "### Problem 2\n",
    "\n",
    "Like what we did for problem 1, we also built an `GRU_Unit` to flow the tensors one layer over times. We re-used almost all the other codes in RNN, except we replaced `RNN_Unit` with `GRU_Unit` when creating instances of `GRU_Unit`. For simplicity, we here only pasted the implementation of `GRU_Unit`. For the whole implementation of `GRU`, refer to the file `models.py`.\n",
    "\n",
    "```python\n",
    "class GRU(nn.Module): # Implement a stacked GRU RNN\n",
    "  \"\"\"\n",
    "  Follow the same instructions as for RNN (above), but use the equations for \n",
    "  GRU, not Vanilla RNN.\n",
    "  \"\"\"\n",
    "  class GRU_Unit(nn.Module):\n",
    "    def __init__(self, input_size, hidden_size):\n",
    "        super(GRU.GRU_Unit, self).__init__()\n",
    "        self.input_size = input_size \n",
    "        self.hidden_size = hidden_size\n",
    "        self.i2r = nn.Linear(input_size + hidden_size, hidden_size)\n",
    "        self.i2z = nn.Linear(input_size + hidden_size, hidden_size)\n",
    "        self.ir2hd = nn.Linear(input_size + hidden_size, hidden_size) \n",
    "      \n",
    "    def init_weights(self, k = None):\n",
    "        if k is None:\n",
    "            k = 1. /math.sqrt(self.hidden_size)\n",
    "        nn.init.uniform_(self.i2r.weight, -k, k)\n",
    "        nn.init.uniform_(self.i2r.bias, -k, k)\n",
    "        nn.init.uniform_(self.i2z.weight, -k, k)\n",
    "        nn.init.uniform_(self.i2z.bias, -k, k)\n",
    "        nn.init.uniform_(self.ir2hd.weight, -k, k)\n",
    "        nn.init.uniform_(self.ir2hd.bias, -k, k)\n",
    "\n",
    "    def forward(self, input):\n",
    "        \"\"\"input (batch_size, input_size+hidden_size)\"\"\" \n",
    "        x_size = self.input_size # real input size\n",
    "        xt = input[:, :x_size] # (batch_size, x_size)\n",
    "        ht = input[:, x_size:] # old ht (h_{t-1}) (batch_size, output_size)\n",
    "        rt = torch.sigmoid(self.i2r(input)) # (batch_size, output_size)\n",
    "        zt = torch.sigmoid(self.i2z(input)) # (batch_size, output_size)\n",
    "        hd = torch.cat((xt, torch.mul(rt, ht)), 1) # (batch_size, input_size)\n",
    "        hd = torch.tanh(self.ir2hd(hd)) # h_t^{tilde} (batch_size, input_size)\n",
    "        ht_part1 = torch.mul(torch.sub(1, zt), ht)\n",
    "        ht_part2 = torch.mul(zt, hd)\n",
    "        ht = torch.add(ht_part1, ht_part2) # new ht (h_{t})\n",
    "        return ht\n",
    "    \n",
    "  # please refer to \"models.py\" for whole implementation of the whole GRU class.\n",
    "```\n"
   ]
  },
  {
   "cell_type": "markdown",
   "metadata": {
    "colab_type": "text",
    "hidden": true,
    "id": "RCumggxqe3Xp"
   },
   "source": [
    "### Problem 3\n",
    "\n",
    "The following codes are our implementation of `MultiHeadAttention` for `TRANSFORMER`:\n",
    "\n",
    "```python\n",
    "class MultiHeadedAttention(nn.Module):\n",
    "    # Based on: https://github.com/harvardnlp/annotated-transformer\n",
    "\n",
    "    def __init__(self, n_heads, n_units, dropout=0.1):\n",
    "        \"\"\"\n",
    "        n_heads: the number of attention heads\n",
    "        n_units: the number of output units\n",
    "        dropout: probability of DROPPING units\n",
    "        \"\"\"\n",
    "        super(MultiHeadedAttention, self).__init__()\n",
    "        # This sets the size of the keys, values, and queries (self.d_k) to all \n",
    "        # be equal to the number of output units divided by the number of heads.\n",
    "        self.d_k = n_units // n_heads\n",
    "        # This requires the number of n_heads to evenly divide n_units.\n",
    "        assert n_units % n_heads == 0\n",
    "        self.n_units = n_units # hidden_size\n",
    "\n",
    "        # Initialize all weights and biases uniformly in the range [-k, k],\n",
    "        # where k is the square root of 1/n_units.\n",
    "        # Note: the only Pytorch modules you are allowed to use are nn.Linear \n",
    "        # and nn.Dropout\n",
    "        self.n_heads = n_heads\n",
    "        self.linears = clones(nn.Linear(n_units, n_units), 4)\n",
    "        k = 1. / math.sqrt(self.n_units)\n",
    "        for linear in self.linears:\n",
    "            nn.init.uniform_(linear.weight, -1*k, k)\n",
    "            nn.init.uniform_(linear.bias, -1*k, k)\n",
    "\n",
    "        self.dropout = nn.Dropout(dropout)\n",
    "\n",
    "        \n",
    "    def forward(self, query, key, value, mask=None):\n",
    "        # implement the masked multi-head attention.\n",
    "        # query, key, and value all have size: (batch_size, seq_len, self.n_units)\n",
    "        # mask has size: (batch_size, seq_len, seq_len)\n",
    "        # As described in the .tex, apply input masking to the softmax \n",
    "        # generating the \"attention values\" (i.e. A_i in the .tex)\n",
    "        # Also apply dropout to the attention values.\n",
    "        batch_size = query.size(0)\n",
    "        Qi, Ki, Vi = [l(x).view(\n",
    "            batch_size, -1, self.n_heads, self.d_k).transpose(1, 2) \n",
    "            for l, x in zip(self.linears, (query, key, value))]\n",
    "        d_k = Qi.size(-1) # d_k = self.d_k\n",
    "        scores = torch.matmul(Qi, Ki.transpose(-2, -1)) / math.sqrt(d_k)\n",
    "        if mask is not None:\n",
    "            mask = mask.unsqueeze(1)\n",
    "            scores = scores.masked_fill(mask == 0, -1e9)\n",
    "        \n",
    "        Ai = torch.softmax(scores, dim = -1)\n",
    "        Ai = self.dropout(Ai) # reasonable? dropout an probability?\n",
    "        Hi = torch.matmul(Ai, Vi)\n",
    "        Hi = Hi.transpose(1, 2).contiguous().view(batch_size, -1, \n",
    "                                                  self.n_heads * self.d_k)\n",
    "        A = self.linears[-1](Hi)\n",
    "        return A # A shape: (batch_size, seq_len, self.n_units)\n",
    "    ```\n"
   ]
  },
  {
   "cell_type": "markdown",
   "metadata": {
    "colab_type": "text",
    "id": "utgls172fBZK"
   },
   "source": [
    "## Problem 4"
   ]
  },
  {
   "cell_type": "markdown",
   "metadata": {
    "colab_type": "text",
    "id": "NoFvZWKmM3G0"
   },
   "source": [
    "refer to problem4.ipynb for codes and results for problem4 "
   ]
  },
  {
   "cell_type": "markdown",
   "metadata": {
    "colab_type": "text",
    "id": "avEivm_RfUWI"
   },
   "source": [
    "## Problem5\n",
    "\n",
    "For problem5, we need to load training and validationg dataset, and to load pre-trained models. \n",
    "\n",
    "These codes are as follows:\n",
    "(Note: only key codes and results are listed for better understanding the report. Please refer to the file \"problem5.py\" for full implementation)"
   ]
  },
  {
   "cell_type": "markdown",
   "metadata": {
    "colab_type": "text",
    "id": "PlL1OQTI7wY7"
   },
   "source": [
    "#### Load training and validation dataset\n",
    "\n",
    "Use method `ptb_raw_data` to load training valid and test data for further use."
   ]
  },
  {
   "cell_type": "code",
   "execution_count": 1,
   "metadata": {
    "colab": {},
    "colab_type": "code",
    "id": "QlLYMPce93-D"
   },
   "outputs": [],
   "source": [
    "import argparse\n",
    "import torch \n",
    "import torch.nn as nn\n",
    "import numpy as np\n",
    "import torch.nn.functional as F\n",
    "import math, copy, time\n",
    "from torch.autograd import Variable\n",
    "from models import WordEmbedding, PositionalEncoding\n",
    "from models import RNN, GRU\n",
    "from models import make_model as TRANSFORMER\n",
    "\n",
    "import os\n",
    "import collections\n",
    "import matplotlib.pyplot as plt\n",
    "from helpers import ptb_raw_data, ptb_iterator, repackage_hidden, Batch"
   ]
  },
  {
   "cell_type": "code",
   "execution_count": 2,
   "metadata": {
    "colab": {
     "base_uri": "https://localhost:8080/",
     "height": 89
    },
    "colab_type": "code",
    "executionInfo": {
     "elapsed": 1192,
     "status": "ok",
     "timestamp": 1553286358284,
     "user": {
      "displayName": "Qiang YE",
      "photoUrl": "https://lh6.googleusercontent.com/-k-9mYNphfpc/AAAAAAAAAAI/AAAAAAAAARQ/zyID3sFntfM/s64/photo.jpg",
      "userId": "15200210150486633975"
     },
     "user_tz": 240
    },
    "id": "WaVoM8Rf-Lys",
    "outputId": "496c4795-05af-451b-f240-b1d26706f603"
   },
   "outputs": [
    {
     "name": "stdout",
     "output_type": "stream",
     "text": [
      "Using the GPU\n",
      "loading data from data...\n",
      "  vocabulary size: 10000\n",
      "929589 73760\n"
     ]
    }
   ],
   "source": [
    "####################### Setup Experiment ##########################\n",
    "# Use the GPU if you have one\n",
    "if torch.cuda.is_available():\n",
    "    print(\"Using the GPU\")\n",
    "    device = torch.device(\"cuda\") \n",
    "else:\n",
    "    print(\"WARNING: You are about to run on cpu, and this will likely run out \\\n",
    "      of memory. \\n You can try setting batch_size=1 to reduce memory usage\")\n",
    "    device = torch.device(\"cpu\")\n",
    "\n",
    "\n",
    "data_path = \"data\"\n",
    "# LOAD DATA\n",
    "print('loading data from ' + data_path + \"...\")\n",
    "raw_data = ptb_raw_data(data_path = data_path)\n",
    "train_data, valid_data, test_data, word_to_id, id_2_word = raw_data\n",
    "vocab_size = len(word_to_id)\n",
    "print('  vocabulary size: {}'.format(vocab_size))\n",
    "print(len(train_data), len(valid_data))"
   ]
  },
  {
   "cell_type": "markdown",
   "metadata": {
    "colab_type": "text",
    "id": "SOLJJ47Q61gY"
   },
   "source": [
    "#### Load pre-trained models from file saved by problem4.1\n",
    "We wrote the following methods to load configurations and pre-trained models, and then load the pre-trained models from question 4.1."
   ]
  },
  {
   "cell_type": "code",
   "execution_count": 3,
   "metadata": {
    "colab": {},
    "colab_type": "code",
    "id": "ED9IHD_a5-fu"
   },
   "outputs": [],
   "source": [
    "def read_config(filepath):\n",
    "    \"\"\"read config data from file to a dict\n",
    "    \"\"\"\n",
    "    cfg = dict()\n",
    "    with open (filepath, 'r') as f:\n",
    "        for line in f.readlines():\n",
    "            key, value = line.split()\n",
    "            #print(key, value)\n",
    "            cfg[key] = value\n",
    "\n",
    "    return cfg\n",
    "\n",
    "\n",
    "def model_from_cfg(cfg, vocab_size):\n",
    "    model_name = cfg[\"model\"]\n",
    "    emb_size = int(cfg[\"emb_size\"])\n",
    "    hidden_size = int(cfg[\"hidden_size\"])\n",
    "    seq_len = int(cfg[\"seq_len\"])\n",
    "    batch_size = int(cfg[\"batch_size\"])\n",
    "    #vocab_size = int(cfg[\"vocab_size\"])\n",
    "    num_layers = int(cfg[\"num_layers\"])\n",
    "    dp_keep_prob = float(cfg[\"dp_keep_prob\"])\n",
    "\n",
    "    if model_name == \"RNN\":\n",
    "        return RNN(\n",
    "            emb_size = emb_size, hidden_size = hidden_size, seq_len = seq_len,\n",
    "            batch_size = batch_size, vocab_size = vocab_size, num_layers = num_layers,\n",
    "            dp_keep_prob = dp_keep_prob)\n",
    "    elif model_name == \"GRU\":\n",
    "        return GRU(\n",
    "            emb_size = emb_size, hidden_size = hidden_size, seq_len = seq_len,\n",
    "            batch_size = batch_size, vocab_size = vocab_size, num_layers = num_layers,\n",
    "            dp_keep_prob = dp_keep_prob)\n",
    "    elif model_name == \"TRANSFORMER\":\n",
    "        model = TRANSFORMER(\n",
    "            vocab_size = vocab_size, n_units = hidden_size,\n",
    "            n_blocks = num_layers, dropout = 1.- dp_keep_prob)\n",
    "        model.batch_size = batch_size\n",
    "        model.seq_len = seq_len\n",
    "        model.vocab_size = vocab_size\n",
    "        return model\n",
    "    else:\n",
    "        print(\"Model type not recognized.\")\n",
    "        return None\n",
    "\n",
    "\n",
    "def load_pretrained_model(model_dir, vocab_size = 10000):\n",
    "    model = None\n",
    "    cfg = read_config(os.path.join(model_dir,\"exp_config.txt\"))\n",
    "    torch.manual_seed(int(cfg[\"seed\"]))\n",
    "    model = model_from_cfg(cfg, vocab_size = vocab_size)\n",
    "    model.load_state_dict(torch.load(os.path.join(model_dir,\"best_params.pt\")))\n",
    "    return model"
   ]
  },
  {
   "cell_type": "code",
   "execution_count": 5,
   "metadata": {
    "colab": {
     "base_uri": "https://localhost:8080/",
     "height": 71
    },
    "colab_type": "code",
    "executionInfo": {
     "elapsed": 3058,
     "status": "ok",
     "timestamp": 1553286434614,
     "user": {
      "displayName": "Qiang YE",
      "photoUrl": "https://lh6.googleusercontent.com/-k-9mYNphfpc/AAAAAAAAAAI/AAAAAAAAARQ/zyID3sFntfM/s64/photo.jpg",
      "userId": "15200210150486633975"
     },
     "user_tz": 240
    },
    "id": "hnpbjeQe-E3-",
    "outputId": "e50dd055-5ccc-4fd7-831a-a40da12b0388"
   },
   "outputs": [
    {
     "name": "stdout",
     "output_type": "stream",
     "text": [
      "loading a pre-trained RNN model... Done.\n",
      "loading a pre-trained GRU model... Done.\n",
      "loading a pre-trained TRANSFORMER model... Done.\n"
     ]
    }
   ],
   "source": [
    "# three dirs generated during training but with dir name changed\n",
    "# we will use the config and trained weights data to load and analysis model\n",
    "model_dirs = [ \"RNN\", \"GRU\", \"TRANSFORMER\"] #, \"GRU\", \"TRANSFORMER\"]\n",
    "models = {}\n",
    "\n",
    "for model_dir in model_dirs:\n",
    "    model_name = model_dir \n",
    "    print(\"loading a pre-trained {} model...\".format(model_name), end = \" \")\n",
    "    model = load_pretrained_model(model_dir, vocab_size = vocab_size)\n",
    "    print(\"Done.\")\n",
    "    model.to(device)\n",
    "    model.eval()\n",
    "    models[model_name] = model "
   ]
  },
  {
   "cell_type": "markdown",
   "metadata": {
    "colab_type": "text",
    "id": "4xAcz1RHgpdF"
   },
   "source": [
    "### 5.1\n",
    "\n",
    "Compute the average loss at each time-step (i.e. $L_t$ for each $t$) within validation sequences. Plot $L_t$ as a function of $t$, describe the result qualitatively, and provide an explanation for what you observe. Compare the plots for the different architectures.\n",
    "\n",
    "   - For Problem 5.1, you can modify the loss computation in this script \n",
    "     (search for \"LOSS COMPUTATION\" to find the appropriate line. Remember to \n",
    "     submit your code.\n",
    "     \n",
    "\n",
    "After examing the method `ptb-iterator` and `run_epoch` in a given file `ptb-lm.py`, we have two options to do this problem:\n",
    "- Option1: change seq_len to 1, feed data time-step by time-step with a certain `batch_size`, such that variable `loss` from the method `loss_fn` just gives loss for one time step. By averaging over the batch_size, we can finally obtain the average losses required.\n",
    "\n",
    "  Note: we only need to initialize `hidden` once, at the very first time-step.\n",
    "- Option2: keep seq_len with certan value (e.g. 35), modify the `loss_fn` by giving an attribute \"reduction = 'non'\" so that the loss are calculated per element in a tensor. Run the model for several steps each of which we feed data X ,y with the shape (batch_size, seq_len). The final loss can be obtained by averaging the sum of steps' losses with each also averaged by a `batch_size`. \n",
    "\n",
    "  Note: at the beginning of each step, `hidden` is re-initialized.\n",
    "\n",
    "\n",
    "The follow codes is our implementation for Option2. Please refer to `problem5.py` for implementation of Option1 and other codes.\n"
   ]
  },
  {
   "cell_type": "code",
   "execution_count": 6,
   "metadata": {
    "colab": {},
    "colab_type": "code",
    "id": "vE4u_C4Z9kjV"
   },
   "outputs": [],
   "source": [
    "### for problem 5.1 \n",
    "# Set the seq_len to 1, invocke the method `ptb_iterator` to generate training\n",
    "# data with shape of (batch_size, 1) and then observe the losses \n",
    "def average_losses(model, model_name, data, max_time_step = None):\n",
    "    loss_fn = nn.CrossEntropyLoss()\n",
    "    losses = [] # hiddens along time step from 0 to model.seq_len-1\n",
    "    \n",
    "    if model_name != 'TRANSFORMER':\n",
    "        hidden = model.init_hidden() # without reinitialize during loop\n",
    "        hidden = hidden.to(device)\n",
    "    \n",
    "    for time_step, (x, y) in enumerate(ptb_iterator(data[37:], model.batch_size, model.seq_len)):\n",
    "        # both x, y are of shape (batch_size, seq_len)\n",
    "        if model_name == 'TRANSFORMER':\n",
    "            batch = Batch(torch.from_numpy(x).long().to(device))\n",
    "            model.eval()\n",
    "            model.zero_grad()\n",
    "            outputs = model.forward(batch.data, batch.mask).transpose(1,0)\n",
    "        else:\n",
    "            inputs = torch.from_numpy(x.astype(np.int64))\n",
    "            inputs = inputs.transpose(0, 1).contiguous().to(device)#.cuda()\n",
    "            model.eval()\n",
    "            model.zero_grad()\n",
    "            hidden = repackage_hidden(hidden)\n",
    "            outputs, hidden = model(inputs, hidden)\n",
    "\n",
    "        targets = torch.from_numpy(y.astype(np.int64)).transpose(0, 1)\n",
    "        targets = targets.contiguous().to(device)#.cuda()\n",
    "        tt = torch.squeeze(targets.view(-1, model.batch_size * model.seq_len))\n",
    "        if tt.dim() == 0:\n",
    "            tt = torch.unsqueeze(tt, 0)\n",
    "        #print(outputs.contiguous().view(-1, model.vocab_size).shape)\n",
    "        loss = loss_fn(outputs.contiguous().view(-1, model.vocab_size), tt)\n",
    "        losses.append(loss.data.item())\n",
    "        \n",
    "        if (not max_time_step is None) and (time_step >= max_time_step - 1):\n",
    "            return losses\n",
    "\n",
    "    return losses\n",
    "\n",
    "# here is another implementation without setting seq_len to 1.\n",
    "# a little more complicated with memory comsuming.\n",
    "# both work well with proper batch_size and seq_len\n",
    "def average_losses2(model, model_name, data, max_time_step = None):\n",
    "    \n",
    "    loss_fn = nn.CrossEntropyLoss(reduction = \"none\") \n",
    "    # \"none\" means don't average or sum the losses, keep the shape\n",
    "    \n",
    "    losses = np.zeros(model.seq_len)\n",
    "    model.eval()\n",
    "    model.zero_grad()\n",
    "    \n",
    "    for time_step, (x, y) in enumerate(ptb_iterator(data, model.batch_size, \n",
    "                                                    model.seq_len)):\n",
    "        # both x, y are of shape (batch_size, seq_len)\n",
    "        if model_name == 'TRANSFORMER':\n",
    "            batch = Batch(torch.from_numpy(x).long().to(device))\n",
    "            outputs = model.forward(batch.data, batch.mask).transpose(1,0)\n",
    "        else:\n",
    "            inputs = torch.from_numpy(x.astype(np.int64))\n",
    "            inputs = inputs.transpose(0, 1).contiguous().to(device)#.cuda()\n",
    "            hidden = model.init_hidden().to(device)#repackage_hidden(hidden)\n",
    "            outputs, _ = model(inputs, hidden)\n",
    "\n",
    "        targets = torch.from_numpy(y.astype(np.int64)).transpose(0, 1)\n",
    "        targets = targets.contiguous().to(device)#.cuda()\n",
    "        tt = torch.squeeze(targets.view(-1, model.batch_size * model.seq_len))\n",
    "        \n",
    "        outputs = outputs.contiguous().view(-1, model.vocab_size)\n",
    "        # loss is a one-dimensional tensor here (seq_len * batch_size)\n",
    "        loss = loss_fn(outputs, tt)       \n",
    "        # converted to (seq_len, batch_size)\n",
    "        loss = loss.view(model.seq_len, model.batch_size)\n",
    "        # transpose loss shape to (batch_size, seq_len)\n",
    "        loss = loss.cpu().data.numpy().transpose(1, 0) \n",
    "        #print(loss.shape)\n",
    "        losses += np.mean(loss, axis = 0)\n",
    "        \n",
    "        # you may not want to calculate over the whole dataset\n",
    "        if (not max_time_step is None) and (time_step >= max_time_step - 1):\n",
    "            return losses\n",
    "    \n",
    "    losses = losses / time_step\n",
    "    return losses"
   ]
  },
  {
   "cell_type": "markdown",
   "metadata": {
    "colab_type": "text",
    "id": "PUI1PD11-fdh"
   },
   "source": [
    "We use `average_losses2` to compute the losses"
   ]
  },
  {
   "cell_type": "code",
   "execution_count": 7,
   "metadata": {
    "colab": {
     "base_uri": "https://localhost:8080/",
     "height": 89
    },
    "colab_type": "code",
    "executionInfo": {
     "elapsed": 21531,
     "status": "ok",
     "timestamp": 1553286467460,
     "user": {
      "displayName": "Qiang YE",
      "photoUrl": "https://lh6.googleusercontent.com/-k-9mYNphfpc/AAAAAAAAAAI/AAAAAAAAARQ/zyID3sFntfM/s64/photo.jpg",
      "userId": "15200210150486633975"
     },
     "user_tz": 240
    },
    "id": "p-NORyRR-eDF",
    "outputId": "b8b2c1ad-7f8f-4e5f-fd7b-d4df99b8fbf8"
   },
   "outputs": [
    {
     "name": "stdout",
     "output_type": "stream",
     "text": [
      "######## Experiment 5.1 on valid_data #######\n",
      "computing losses on RNN for each time-step... Done.\n",
      "computing losses on GRU for each time-step... Done.\n",
      "computing losses on TRANSFORMER for each time-step... Done.\n"
     ]
    }
   ],
   "source": [
    "use_func = average_losses2 # you may change to use average_losses\n",
    "losses = {} # for losses on three architectures\n",
    "\n",
    "batch_size = 2048 if use_func is average_losses else 20\n",
    "seq_len = 1 if use_func is average_losses else 70\n",
    "\n",
    "print(\"######## Experiment 5.1 on valid_data #######\")\n",
    "for model_dir in model_dirs:\n",
    "    model_name = model_dir\n",
    "    model = models[model_name]\n",
    "    model.seq_len = seq_len    \n",
    "    model.batch_size = batch_size\n",
    "    print(\"computing losses on {} for each time-step...\".format(\n",
    "        model_name), end = \" \")\n",
    "    losses[model_name] = use_func(model, model_name, valid_data)\n",
    "    print(\"Done.\")"
   ]
  },
  {
   "cell_type": "markdown",
   "metadata": {
    "colab_type": "text",
    "id": "X971mVLF557q"
   },
   "source": [
    "Both methods derived similar results with slightly different performance for TRANSFORMER. We plotted them in the next 2 figures:\n",
    "\n"
   ]
  },
  {
   "cell_type": "code",
   "execution_count": 8,
   "metadata": {
    "colab": {
     "base_uri": "https://localhost:8080/",
     "height": 439
    },
    "colab_type": "code",
    "executionInfo": {
     "elapsed": 1013,
     "status": "ok",
     "timestamp": 1553286473296,
     "user": {
      "displayName": "Qiang YE",
      "photoUrl": "https://lh6.googleusercontent.com/-k-9mYNphfpc/AAAAAAAAAAI/AAAAAAAAARQ/zyID3sFntfM/s64/photo.jpg",
      "userId": "15200210150486633975"
     },
     "user_tz": 240
    },
    "id": "5_RV2b0FAQO3",
    "outputId": "1d2729bf-5a4e-4a07-b8b4-d9a293acb66d"
   },
   "outputs": [
    {
     "name": "stdout",
     "output_type": "stream",
     "text": [
      "plotting losses of three models...\n",
      "curve files saved in :figures/loss_curve_5.1_seq_len=70_batch_size=20.png\n"
     ]
    },
    {
     "data": {
      "image/png": "[encoded data removed]",
      "text/plain": [
       "<Figure size 864x432 with 1 Axes>"
      ]
     },
     "metadata": {
      "needs_background": "light"
     },
     "output_type": "display_data"
    }
   ],
   "source": [
    "print(\"plotting losses of three models...\")\n",
    "len_losses = [len(losses[model_name]) for model_name in model_dirs]\n",
    "min_len_losses = min(len_losses)\n",
    "\n",
    "plt.figure(figsize = (12, 6))\n",
    "time_steps = np.arange(min_len_losses)\n",
    "for model_dir in model_dirs:\n",
    "    plt.plot(time_steps, losses[model_dir][:min_len_losses], label = model_dir,\n",
    "             marker = \"o\")\n",
    "\n",
    "plt.xlabel('Time Step')\n",
    "plt.ylabel('Losses')\n",
    "plt.legend(loc='upper right')\n",
    "fig_title = \"Average Losses of Different Architectures on Valid Set\"\n",
    "fig_title += \" (seq_len = {}, batch_size = {})\".format(seq_len, batch_size)\n",
    "plt.title(fig_title)\n",
    "\n",
    "img_file = \"figures/loss_curve_5.1_seq_len={}_batch_size={}.png\".format(\n",
    "            seq_len, batch_size) \n",
    "plt.savefig(img_file)\n",
    "print(\"curve files saved in :{}\".format(img_file))\n",
    "plt.show()\n",
    "#Image(filename='figures/5/loss_curve_5.1_seq_len=35_batch_size=20.png')"
   ]
  },
  {
   "cell_type": "markdown",
   "metadata": {
    "colab_type": "text",
    "id": "wQXYi3ULlpBr"
   },
   "source": [
    "Our observation is:\n",
    "1. for each architecture, losses start with a higher value then decrease quickly for next several time-steps, followed by a flat decreasing(not very obvious, sometimes with oscillations) trend as time flows.\n",
    "2. Comparing the three architectures: GRU performs best, then TRANSFORMER, and RNN performs worst. But when using option2, TRANSFORMER is the worst, it may because of too short seq_len make TRANSFORMER have to predict without context. Nevertheless, as it is a pre-trained model, it still performs well.\n",
    "\n",
    "Our explanation is as follows:\n",
    "- **Higher loss at initial time step**: without any hidden information, models(RNN and GRU) tend to predict as trained, predicting words which are the starting words during training in steps with higher probabilities, If the starting words are much different in validation dataset( this is very normal, chang batch_size and sql_len will produce sequences with very different starting words). GRU having the highest Initial loss may just mean that the hidden status is more valuable for it, without usefull hidden information, GRU is just a little better than a random prediction(with average loss about 9.21).\n",
    "\n",
    "- **Quick decreasing for first several time steps**: This is the effect of hidden units or context(for TRANSFORMER). with the help of context information, all models start to predict better and better. This is not the case when use `seq_len = 1` for TRANSFORMER, where it still has no context to use. It performs better than RNN `seq_len = 30` is used.\n",
    "\n",
    "- **A long flat zone**: After a steep decreasing at the first several time steps, all architectures stuck into a flat zone, where the loss keeps a certain level. Loss value of 5 corresponds to a correct predicting probability of $e^{-5}= 0.0067 $ which is still 67 times higher than making a random prediction. Maybe it is because of the pattern diversities in the training dataset.\n",
    "\n",
    "- **About the oscillations**: A sudden decreasing of loss may comes from a common pattern in the dataset, such as the <SOS> <EOS> <Ukn> tokens often come after or before certain words. But, we are not sure about this inference."
   ]
  },
  {
   "cell_type": "markdown",
   "metadata": {
    "colab_type": "text",
    "id": "xlphOGUDgtSF"
   },
   "source": [
    "### 5.2 \n",
    "\n",
    "For one minibatch of training data, compute the average gradient of the loss at the final\n",
    "time-step with respect to the hidden state at each time-step $t$: $\\nabla_{h_t} L_t$. The norm of these gradients can be used to evaluate the propagation of gradients; a rapidly decreasing norm means that longer-term dependencies have less influence on the training signal, and can indicate **vanishing gradients**. Plot the Euclidian norm of $\\nabla_{h_t} L_t$ as a function of $t$ for each of the 3 architectures. Rescale the values of each curve to $[0,1]$ so that you can compare all three on one plot. Describe the results qualitatively, and provide an explanation for what you observe, discussing what the plots tell you about the gradient propagation in the different\n",
    "architectures."
   ]
  },
  {
   "cell_type": "markdown",
   "metadata": {
    "colab_type": "text",
    "id": "vhnWFQN_xYW-"
   },
   "source": [
    "As we are only going to observe the gradients of GRU and RNN, we can set the `seq_len = 1` and run the model for several time steps.\n",
    "By using the method `torch.autograd.grad`, we are able to get the loss at the final step  with respect to the hidden state at each time-step $t$. \n",
    "\n",
    "Our codes are as follows:"
   ]
  },
  {
   "cell_type": "code",
   "execution_count": 9,
   "metadata": {
    "colab": {},
    "colab_type": "code",
    "id": "nnqJiWJchinl"
   },
   "outputs": [],
   "source": [
    "def average_gradients(model, model_name, data, max_time_step = 35):\n",
    "    loss_fn = nn.CrossEntropyLoss()\n",
    "    hiddens = [] # hiddens along time step from 0 to model.seq_len-1\n",
    "    norm_gradients = []\n",
    "    if model_name == 'TRANSFORMER':\n",
    "        return None\n",
    "    \n",
    "    hidden = model.init_hidden()\n",
    "    hidden = hidden.to(device)\n",
    "    hiddens.append(hidden)\n",
    "    model.train()\n",
    "    model.zero_grad()\n",
    "    \n",
    "    for time_step, (x, y) in enumerate(ptb_iterator(data, model.batch_size, \n",
    "                                                    model.seq_len)):\n",
    "        # both x, y are of shape (batch_size, seq_len)\n",
    "        inputs = torch.from_numpy(x.astype(np.int64)).transpose(0, 1)\n",
    "        inputs = inputs.contiguous().to(device)#.cuda()\n",
    "        outputs, hidden = model(inputs, hiddens[-1])\n",
    "        hiddens.append(hidden)\n",
    "        \n",
    "        if time_step >= max_time_step - 1: # only seq_len time steps\n",
    "            targets = torch.from_numpy(y.astype(np.int64)).transpose(0, 1)\n",
    "            targets = targets.contiguous().to(device)#.cuda()\n",
    "            tt = torch.squeeze(targets.view(-1, model.batch_size * model.seq_len))\n",
    "            if tt.dim() == 0:\n",
    "                tt = torch.unsqueeze(tt, 0)\n",
    "            \n",
    "            loss = loss_fn(outputs.contiguous().view(-1, model.vocab_size), tt)\n",
    "            for i in range(len(hiddens)-2): # the last hidden doesn't require grade\n",
    "                gradient = torch.autograd.grad(loss, hiddens[i], retain_graph = True)\n",
    "                # gradient is a tuple (Tensor, )\n",
    "                norm_gradients.append(torch.norm(gradient[0], p = 2).data.item())\n",
    "            \n",
    "            return norm_gradients"
   ]
  },
  {
   "cell_type": "code",
   "execution_count": 10,
   "metadata": {
    "colab": {
     "base_uri": "https://localhost:8080/",
     "height": 71
    },
    "colab_type": "code",
    "executionInfo": {
     "elapsed": 7837,
     "status": "ok",
     "timestamp": 1553286584975,
     "user": {
      "displayName": "Qiang YE",
      "photoUrl": "https://lh6.googleusercontent.com/-k-9mYNphfpc/AAAAAAAAAAI/AAAAAAAAARQ/zyID3sFntfM/s64/photo.jpg",
      "userId": "15200210150486633975"
     },
     "user_tz": 240
    },
    "id": "7bGbHKwfF0z5",
    "outputId": "28486491-947d-4fa7-fb38-3b31578fc958"
   },
   "outputs": [
    {
     "name": "stdout",
     "output_type": "stream",
     "text": [
      "######## Experiment 5.2 on one mini_batch of train_data #######\n",
      "RNN: computing gradients of hidden... Done.\n",
      "GRU: computing gradients of hidden... Done.\n"
     ]
    }
   ],
   "source": [
    "norm_grads = {}\n",
    "\n",
    "print(\"######## Experiment 5.2 on one mini_batch of train_data #######\")\n",
    "for model_dir in model_dirs[0:2]: # TRANSFORMER excluded\n",
    "    model_name = model_dir\n",
    "    model = models[model_name]\n",
    "    model.train()\n",
    "    model.seq_len = 1 # one time step by one time step\n",
    "    print(\"{}: computing gradients of hidden...\".format(model_name), end = \" \")\n",
    "    norm_grad = np.array(average_gradients(model, model_name, train_data))\n",
    "    # rescale to [0, 1]\n",
    "    norm_grads[model_name] = norm_grad\n",
    "    print(\"Done.\")\n"
   ]
  },
  {
   "cell_type": "markdown",
   "metadata": {
    "colab_type": "text",
    "id": "g9hMGGQIhkyM"
   },
   "source": [
    "The result is as follows."
   ]
  },
  {
   "cell_type": "code",
   "execution_count": 11,
   "metadata": {
    "colab": {
     "base_uri": "https://localhost:8080/",
     "height": 467
    },
    "colab_type": "code",
    "executionInfo": {
     "elapsed": 1424,
     "status": "ok",
     "timestamp": 1553286589599,
     "user": {
      "displayName": "Qiang YE",
      "photoUrl": "https://lh6.googleusercontent.com/-k-9mYNphfpc/AAAAAAAAAAI/AAAAAAAAARQ/zyID3sFntfM/s64/photo.jpg",
      "userId": "15200210150486633975"
     },
     "user_tz": 240
    },
    "id": "JgNKgzBLF3Sz",
    "outputId": "e60d3ba5-4efa-4792-c61f-28ce338c74b3"
   },
   "outputs": [
    {
     "name": "stdout",
     "output_type": "stream",
     "text": [
      "plotting average gradients of RNN and GRU models...\n",
      "norm_grads plots saved in: figures/norm_grads_5.2_34.png\n"
     ]
    },
    {
     "data": {
      "image/png": "[encoded data removed]",
      "text/plain": [
       "<Figure size 1008x432 with 2 Axes>"
      ]
     },
     "metadata": {
      "needs_background": "light"
     },
     "output_type": "display_data"
    }
   ],
   "source": [
    "# analyze gradients and plot curves\n",
    "print(\"plotting average gradients of RNN and GRU models...\")\n",
    "len_grads = [len(norm_grads[model_name]) for model_name in model_dirs[0:2]]\n",
    "min_len_grads = min(len_grads)\n",
    "\n",
    "time_steps = np.arange(min_len_grads)\n",
    "def rescale(norm_grad):\n",
    "    min_g, max_g = min(norm_grad), max(norm_grad)\n",
    "    norm_grad = (norm_grad - min_g) / (max_g - min_g)\n",
    "    return norm_grad\n",
    "    \n",
    "def rescale2(norm_grad):\n",
    "    min_g, max_g = min(norm_grad), max(norm_grad)\n",
    "    norm_grad = norm_grad / max_g\n",
    "    return norm_grad\n",
    "   \n",
    "plt.figure(figsize = (14, 6))\n",
    "plt.subplot(1,2,1)\n",
    "for model_dir in model_dirs[0:2]:\n",
    "    plt.plot(time_steps, rescale(norm_grads[model_dir][:min_len_grads]), label = model_dir)\n",
    "plt.xlabel('Time Step')\n",
    "plt.ylabel('Norm of Gradient of Loss w.r.t Hiddens')\n",
    "plt.legend(loc='upper left')\n",
    "plt.title(\"rescaling by y = (y-min(y))/(max(y)-min(y))\")\n",
    "    \n",
    "plt.subplot(1,2,2)\n",
    "for model_dir in model_dirs[0:2]:\n",
    "    plt.plot(time_steps, rescale2(norm_grads[model_dir][:min_len_grads]), label = model_dir)\n",
    "plt.xlabel('Time Step')\n",
    "plt.ylabel('Scaled Norm of Gradient of Loss w.r.t Hiddens')\n",
    "plt.legend(loc='upper left')\n",
    "plt.title(\"rescaling by y = y / max(y)\")\n",
    "\n",
    "plt.suptitle(\"Comparison of Norm of average gradients over time step between RNN and GRU\")\n",
    "    \n",
    "img_file = \"figures/norm_grads_5.2_\" + str(min_len_grads) + \".png\"\n",
    "plt.savefig(img_file)\n",
    "print(\"norm_grads plots saved in: {}\".format(img_file))\n",
    "plt.show()"
   ]
  },
  {
   "cell_type": "markdown",
   "metadata": {
    "colab_type": "text",
    "id": "TJfE8bUFzivn"
   },
   "source": [
    "Obvisouly, the figure shows that compared with the gradient of the final time-step, gradients of previous hiddens are getting smaller, which means gradient is vanishing or, we can say, not very easy to pass back through time. gradient of RNN decreased much faster than GRU, meaning that RNN only has short term memory, while GRU has longer, benefited from its gated recurrent unitits and hidden states."
   ]
  },
  {
   "cell_type": "markdown",
   "metadata": {
    "colab_type": "text",
    "id": "wOdYe3jaglRC"
   },
   "source": [
    "### 5.3\n",
    "\n",
    "Generate samples from both the Simple RNN and GRU, by recursively sampling $\\hat{\\mathbb x}_{t+1} \\sim P(\\mathbb x_{t+1} | \\hat{\\mathbb x}_1, \\cdots \\hat{\\mathbb x}_t)$. Make sure to condition on the sampled $\\hat{\\mathbb x}_{t}$, not the ground truth. Produce 20 samples from both the RNN and GRU: 10 sequences of the same length as the training sequences, and 10 sequences of twice the length of the training sequences. Choose 3 “best”, 3 “worst”, and 3 that are “interesting”, and make reference to these to describe qualitatively the different models’ strengths, failure modes, quirks, and any potentially interesting things to investigate. Put all 40 samples in an appendix to your report.\n",
    "  \n",
    "   - For Problem 5.3, you must implement the generate method of the RNN and \n",
    "     GRU.  Implementing this method is not considered part of problems 1/2 \n",
    "     respectively, and will be graded as part of Problem 5.3\n",
    "     "
   ]
  },
  {
   "cell_type": "markdown",
   "metadata": {
    "colab_type": "text",
    "id": "Og_q9wJP1_dx"
   },
   "source": [
    "For RNN and GRU class we implemented method `generate` to generate sequences. The codes are as follows:\n",
    "```python\n",
    "# the codes is considered a part of class RNN and GRU\n",
    "def generate(self, input, hidden, generated_seq_len):\n",
    "    # TODO ========================\n",
    "    # Compute the forward pass, as in the self.forward method (above).\n",
    "    # You'll probably want to copy substantial portions of that code here.\n",
    "    # \n",
    "    # We \"seed\" the generation by providing the first inputs.\n",
    "    # Subsequent inputs are generated by sampling from the output distribution, \n",
    "    # as described in the tex (Problem 5.3)\n",
    "    # Unlike for self.forward, you WILL need to apply the softmax activation \n",
    "    # function here in order to compute the parameters of the categorical \n",
    "    # distributions to be sampled from at each time-step.\n",
    "\n",
    "    \"\"\"\n",
    "    Arguments:\n",
    "        - input: A mini-batch of input tokens (NOT sequences!)\n",
    "                        shape: (batch_size)\n",
    "        - hidden: The initial hidden states for every layer of the stacked RNN.\n",
    "                        shape: (num_layers, batch_size, hidden_size)\n",
    "        - generated_seq_len: The length of the sequence to generate.\n",
    "                       Note that this can be different than the length used \n",
    "                       for training (self.seq_len)\n",
    "    Returns:\n",
    "        - Sampled sequences of tokens\n",
    "                    shape: (generated_seq_len, batch_size)\n",
    "    \"\"\"\n",
    "    samples = []\n",
    "    predict = input # at time step 0, predict is input\n",
    "    samples.append(torch.unsqueeze(predict, 0))\n",
    "    for i in range(generated_seq_len): # each seq index\n",
    "        # output is the predicted word index, with batch_size elements\n",
    "        embedded = self.dropout(self.i2e(predict)) # (batch_size, emb_size)\n",
    "        output_cur_layer = None\n",
    "        hs = []\n",
    "        for j in range(self.num_layers): # more than 1 recurrent hidden layer\n",
    "            input_cur_layer = embedded if j == 0 else output_cur_layer # \n",
    "            combined = torch.cat((input_cur_layer, hidden[j,:,:]), 1)\n",
    "            hidden_cur_layer = self.rnn_units[j](combined) #(batch_size, hidden_size)\n",
    "            output_cur_layer = self.dropout(hidden_cur_layer)\n",
    "            hs.append(torch.unsqueeze(hidden_cur_layer, 0))\n",
    "            \n",
    "        output_cur_layer = self.h2o(output_cur_layer)\n",
    "        hidden = torch.cat(hs, 0) # new hidden for next word in seq\n",
    "        p_output = torch.softmax(output_cur_layer, dim = -1) # (batch_size, vocab_size)\n",
    "        predict = Categorical(p_output).sample().long() # batch_size\n",
    "        # another option is just give the predict with largest probability\n",
    "        # output_cur_layer = torch.argmax(output_cur_layer, dim = -1) # word_index\n",
    "        samples.append(torch.unsqueeze(predict, 0))\n",
    "    \n",
    "    samples = torch.cat(samples, 0)\n",
    "    return samples\n",
    "```\n"
   ]
  },
  {
   "cell_type": "markdown",
   "metadata": {
    "colab_type": "text",
    "id": "wXIZpvlj2W74"
   },
   "source": [
    "Then, we implemented an method receiving a model and other parameters to generate `batch_size` sequences each with the length of `seq_len`"
   ]
  },
  {
   "cell_type": "code",
   "execution_count": 12,
   "metadata": {
    "colab": {},
    "colab_type": "code",
    "id": "awlrt6LV88qG"
   },
   "outputs": [],
   "source": [
    "# for problem 5.3\n",
    "def generate_seq(model, vocab_size = 10000):\n",
    "    # generate sequence from a trained model\n",
    "    model.eval()\n",
    "    batch_size = model.batch_size\n",
    "    seq_len = model.seq_len\n",
    "    \n",
    "    gen_hidden = torch.zeros(model.num_layers, batch_size, model.hidden_size)\n",
    "    gen_hidden = gen_hidden.to(device)\n",
    "    gen_hidden = repackage_hidden(gen_hidden)\n",
    "    gen_input = torch.randint(0, vocab_size, (batch_size,)).contiguous()\n",
    "    gen_input = gen_input.to(device)#.cuda()\n",
    "    samples = model.generate(gen_input, gen_hidden, seq_len)\n",
    "    # size of samples (seq_len, batch_size)\n",
    "    samples = samples.transpose(0, 1).cpu().numpy()\n",
    "    max_len = 80\n",
    "    cur_len = 0\n",
    "    for i in range(batch_size): # for each batch\n",
    "        print(\"Seq {}: \".format(i), end = \" \")\n",
    "        cur_len = 7\n",
    "        for j in range(seq_len):\n",
    "            word = id_2_word[samples[i,j]]\n",
    "            if cur_len + len(word) >= max_len:\n",
    "                cur_len = 0\n",
    "                print(\"\")\n",
    "            \n",
    "            print(word, end = \" \")\n",
    "            cur_len += (len(word) + 1)\n",
    "        print(\"\\n\")"
   ]
  },
  {
   "cell_type": "markdown",
   "metadata": {
    "colab_type": "text",
    "id": "mr55m8yE4RJi"
   },
   "source": [
    "Here is some best,worst, interesting sequences selected from what we generated.\n",
    "\n",
    "\n",
    "\n"
   ]
  },
  {
   "cell_type": "markdown",
   "metadata": {
    "colab_type": "text",
    "id": "48PCl3Gk26PX"
   },
   "source": [
    "The following codes are used to generate required sequences. We attached 40 required sequences as appendix. "
   ]
  },
  {
   "cell_type": "code",
   "execution_count": 13,
   "metadata": {
    "colab": {
     "base_uri": "https://localhost:8080/",
     "height": 3995
    },
    "colab_type": "code",
    "executionInfo": {
     "elapsed": 1841,
     "status": "ok",
     "timestamp": 1553288317817,
     "user": {
      "displayName": "Qiang YE",
      "photoUrl": "https://lh6.googleusercontent.com/-k-9mYNphfpc/AAAAAAAAAAI/AAAAAAAAARQ/zyID3sFntfM/s64/photo.jpg",
      "userId": "15200210150486633975"
     },
     "user_tz": 240
    },
    "id": "Q__FTR10CWsZ",
    "outputId": "664587d2-65b9-475e-9e69-03cbbf40ee0d",
    "scrolled": false
   },
   "outputs": [
    {
     "name": "stdout",
     "output_type": "stream",
     "text": [
      "######## Experiment 5.3 on one mini_batch of train_data #######\n",
      "\n",
      "10 sequences generated by model: RNN with length 35\n",
      "\n",
      "Seq 0:  unsecured accurate g.m.b buried working drill ceo ill. regularly \n",
      "disclosing downright crest achenbaum verge accelerate terminals ssangyong \n",
      "turmoil foes tokyu true sang viewers represented humor steadily importing wines \n",
      "novel parallel years request script revamping fueled \n",
      "\n",
      "Seq 1:  increases structures slack probing loyal improperly focused beautiful \n",
      "non-violent elephant emerged continually optical pressure upgrading earthquake \n",
      "politician trendy hectic exhausted from poughkeepsie disappointing signs \n",
      "house-passed upset added emotional christies omni sim bursts midst stanford \n",
      "failures \n",
      "\n",
      "Seq 2:  turkey mount $ fuels foundation ec orthodox notice beyond perceived \n",
      "eidsmo nickel prove beating distributing founded trucks beefeater criticisms \n",
      "development fledgling withdrew switzerland longtime reed octel maintenance \n",
      "retain understand salt illuminating stuart experiencing electronically stream \n",
      "\n",
      "Seq 3:  broad latter friday-the-13th higher cumulative explicit competitive \n",
      "fails collected sanford assets ironic jamaica endure balanced avoid net first \n",
      "falls mild their apples repression finds broaden specter measuring mccaw \n",
      "emphasis benton newest tuesday conviction line-item flows \n",
      "\n",
      "Seq 4:  banned complain squeeze controllers dorrance clearly developments \n",
      "suddenly strict black contends favorite abrupt cheaper murdoch real-estate \n",
      "marlowe flush bosses rise cooled exceptionally riskier contrasts bail wonder \n",
      "gradually edgar talking coupon mandated fund-raising gridlock low-cost visit \n",
      "\n",
      "Seq 5:  racial reference asserts edge repurchase turnpike houston blank bail \n",
      "damages pricings fly days crack congressman mess bunch miss selling \n",
      "investigating cash ringer bounce feat submitted steven transcanada dealing come \n",
      "propose french politics eurodollar visitors application \n",
      "\n",
      "Seq 6:  trudeau bay-area kume neb. jury absolutely justify costs tenants \n",
      "underground ports food actors acceptance twist tpa identifying crises watch \n",
      "inventor greeted heaviest destruction warrant cholesterol fierce omaha \n",
      "proclaimed increases cathay delivered pencil meals requested lets \n",
      "\n",
      "Seq 7:  eliminated 52-week firstsouth proposing spawned averaged beat fill \n",
      "benson respondents clause maybe fireman antitrust allegations thi worm such \n",
      "battery berry avoid difficult rochester still successor compatible weiss cubans \n",
      "accurately berry spot commodities fool cup associate \n",
      "\n",
      "Seq 8:  lawrence first-time breakers electronically anywhere wood inadequate \n",
      "broadcasters sink depletion overdue fujisawa johnston thrift crusade domestic \n",
      "law kid deposit restricts dangers banks pentagon anticipation number sticking \n",
      "discussion natural-gas this colgate-palmolive milestones role unlawful \n",
      "similarly monopoly \n",
      "\n",
      "Seq 9:  pope sticking housing shirts cents beneath environmentalism plummet us$ \n",
      "salary suggested exclusion actions wanting assumptions nationally appealed wind \n",
      "hurry few unsuccessful falcon experiment inability r.h. efficient pioneer \n",
      "tanker commonwealth ' forfeiture replace gamble cities\\/abc philip \n",
      "\n",
      "10 sequences generated by model: RNN with length 70\n",
      "\n",
      "Seq 0:  tighten bat viewpoint maybe advancing e. higher merchandise chip shield \n",
      "tripled free-market bpca encourages royalties iras overseas basket sun \n",
      "intelogic short-lived proceeding marginal ideological packaged throwing ends \n",
      "crews gives bond exercised ranking tracked deeply alex teacher marc loan-loss \n",
      "corps italy iverson desire breach mine central temperatures agricole ashland \n",
      "intergroup sole furthermore watch egon scams conform stories crown advocates \n",
      "criteria andreas positioned notice several worry accident dictator hoelzer \n",
      "leaving singapore aiming \n",
      "\n",
      "Seq 1:  easing personally credit custody underwritten homes worrying reeling \n",
      "crowded portable confidence gubernatorial utility dressed apartheid computer \n",
      "devastating cynthia falls coffee edisto eaton grocery environments patterson \n",
      "two-tier gray sensitive disagreed fray referred tucson statistical jokes \n",
      "patient cable liberals renew applied lynn wealthy stir engelken tass human \n",
      "counting stewart harrison include parental countries hotel constitution \n",
      "consultants royal ana edge colon basketball booked stemming kleinwort chief \n",
      "diet discouraged scientists magna distant hungary posted \n",
      "\n",
      "Seq 2:  keating reeling arbitrator crazy standpoint doyle chile plunging \n",
      "cardiovascular institutions dominates disasters barron alley p. mistake \n",
      "determine patterson undermined forever fields disclosing employers tightening \n",
      "corner operate global horse semiconductor watches penalties takeover degrees \n",
      "angels ohio competitiveness stated marc asked unscrupulous conditions indeed \n",
      "enhanced billed spurred weeks watches joint-venture arts taxes purchasers \n",
      "wasted catastrophe edison tailored dipped sloan wants homosexual titled \n",
      "rejecting two-thirds gridlock pointing capitalization vintage hancock paying \n",
      "exemption convicted \n",
      "\n",
      "Seq 3:  uncovered warrants predictably landscape inquiry technique basir demise \n",
      "azoff attributed society telecommunications drill lenses volatile evaluate \n",
      "competing titled historical robert streak in interim resembles kkr batman reads \n",
      "products deteriorated governing qintex moreover hardest lead franchisee skidded \n",
      "stress kenneth kasparov strongest skills defective institution plagued goodson \n",
      "worrying greenwich divisive mainstay plagued october martin roy violation pizza \n",
      "traveled chancellor pact hot stay generation propaganda jazz congressman tony \n",
      "similarity sticking default specialized trucking \n",
      "\n",
      "Seq 4:  justify republic kirk private obstacle became frequency carbide israeli \n",
      "realty stress power thrifts firstsouth altogether concrete announced repeal \n",
      "stocks governments darman across dresdner genetics exporting howard equally \n",
      "prospectus military milk state-owned strips bills adapted aimed stealing killer \n",
      "catalyst bar represented cover huge stuff republicans shown wilfred separation \n",
      "rage vermont display ink penny greenwich tremors namibia gear issues acquitted \n",
      "food hotel reoffered stockholders rough water boomers highway pro harrison \n",
      "voices venerable \n",
      "\n",
      "Seq 5:  depended decade heels fur corps narrows est expert stuff drifted \n",
      "shipment compatible haven cooking results incentives videocassette stevenson \n",
      "carbide detroit rewards traffickers insider-trading freight refund peck letter \n",
      "warehouse intense avenue atlanta-based patents receiving steps alleges subject \n",
      "may television named politicians wrong mirror stabilized mcgovern gangs hancock \n",
      "subordinates single-a-2 trillion conventional egyptian featured homeowners \n",
      "deals beretta cater prospective feb. noncallable columbus planted baldwin \n",
      "generally permits applications gintel agnos jewish commissions qualify \n",
      "\n",
      "Seq 6:  aspect seidman signed soybeans hunting candela thurmond persuaded tools \n",
      "motion sister experiencing attributed expanded model shattered generale economy \n",
      "wondering aspirations tandem seize polled sweet eaton game foreign-currency \n",
      "jewish intergroup oh fronts panels toxin bull shipping again politics \n",
      "commerzbank throws october complex everybody world-wide behind governments \n",
      "approach centerpiece tests movie peladeau lighting a.g. matthews entrenched \n",
      "splitting grain convex rallies boost proxy packwood playwright initiated \n",
      "allocation obtained deposit received started lots residence \n",
      "\n",
      "Seq 7:  s.p salt abolish thing outlook repaid upward meals ltv sen neglected \n",
      "changed throw packaged-goods taiwanese cosby incentives fulfill germans audio \n",
      "focused probability save supervisor spend trespass s.a. clobbered additionally \n",
      "her outperformed grab reception pointing two blame gelbart profit upward \n",
      "pediatric smart scientist perceived impossible survival doctors blocking adult \n",
      "lenses importing pennsylvania internationally expand though rumors daffynition \n",
      "failures backlogs persons runkel excuse throwing waves storm can who mca \n",
      "allocation ratio anti-takeover \n",
      "\n",
      "Seq 8:  flavor advising aroused wang comedy soup merits junk-holders freddie \n",
      "atlanta-based dictaphone smoke f nixon fun better results couple span restrict \n",
      "dumped law shares venezuela executives belts <unk> gintel drexel arrangement \n",
      "discretionary consisting omni ideological maine every pushing manville berlin \n",
      "needed ken intensive factory polls ferdinand single depressed hyundai modest \n",
      "trillion cleanup infected reluctance long fields turning doctors invented \n",
      "greenville few kept product cancer downside traded network heritage twelve \n",
      "menlo shot \n",
      "\n",
      "Seq 9:  recording wilder repair unfair bet mulford nice distinctive near \n",
      "hambrecht conspired electronically guest food audit disputes speaks \n",
      "savings-and-loan turns health-care emerging khmer renamed chiron completing \n",
      "scarce always considers peters thornburgh tally challenged ogilvy barrett \n",
      "popularity diversifying telephones centrust slashed feeds philip bids globe \n",
      "microsystems lasting match table nearly nomination weirton provide employers \n",
      "nerves such check districts certified pediatric visible lynch opposing \n",
      "independent experiment events identified introducing icahn oils inevitable \n",
      "pattern \n",
      "\n",
      "10 sequences generated by model: GRU with length 35\n",
      "\n",
      "Seq 0:  moon kaiser ounce midnight supportive males nye persian blanket showing \n",
      "ages lobbyist fazio involving frederick settled aligned featuring competitor \n",
      "robertson facilities operational kurt roderick t. suffer predicting mid-1970s \n",
      "outstanding aliens cooking s ratios language another \n",
      "\n",
      "Seq 1:  scott funding god disappointing topped exit keeps areas academy contel \n",
      "votes peter owner builders neighborhoods rica necessary simmons gradual wright \n",
      "lose mph louisiana minutes multibillion-dollar pushed southeast gnp delay conn \n",
      "ranged multiple lived boone soft \n",
      "\n",
      "Seq 2:  usair lives olympia dennis tainted reliance bullock wooing move premises \n",
      "dover served soared dies isolated renewed accounts drafted madison reading \n",
      "anticipation bowes money-fund benjamin insolvent hour two-tier skase sharing \n",
      "tried coats mandate bringing namibia explosions \n",
      "\n",
      "Seq 3:  reinforcing merchandising garcia u.n. massages geographic pick \n",
      "medium-sized foam constant contacts reuter willing p.m fronts advanced \n",
      "restoring deliveries n.j. afterward disadvantage permits rubicam systems \n",
      "diamond glenn toubro disclose adapted row bnl operational diverse defer barrels \n",
      "\n",
      "Seq 4:  man wheels results bacterium altogether indexing nebraska chrysler \n",
      "concentrate drives pace ohio kangyo increase driver resolve funds onerous \n",
      "purchased instructions biological bizarre voter hubbard object assurances \n",
      "temporary cafeteria underwritten caused tricky focus manitoba no. eager \n",
      "\n",
      "Seq 5:  negotiations ortega went inspectors writes concert houses precedent \n"
     ]
    },
    {
     "name": "stdout",
     "output_type": "stream",
     "text": [
      "mgm\\/ua widely fight enabling publicity carolinas belief kansas tunnel aligned \n",
      "disappearance maker equivalent wealth popular although publishes plunge silicon \n",
      "singled judicial lunch microwave procter stimulate touch mink \n",
      "\n",
      "Seq 6:  thereafter accumulated marlowe fannie merck imposed alternative \n",
      "listening sheets reform sure dillon stays five missiles wooing mack placed \n",
      "centuries between kitchen rev. motor arafat comply gutfreund clinic persistent \n",
      "drawings toy save peat along bribery irresponsible \n",
      "\n",
      "Seq 7:  communists natwest upbeat borders trustee maturing practical trade bloc \n",
      "strengthened emotional prominent fastest-growing legitimate pet lumber verdict \n",
      "hands february pleased favored rocked watson free-lance industrywide equitec \n",
      "reveals marous dropped bork beatrice corning reductions cover dealings \n",
      "\n",
      "Seq 8:  applying apples wires mexican publicly spur woes economists smoothly \n",
      "proved mortality reinvested convey cell dinkins advantages sweet judging \n",
      "gallons mesa correct recommends armed macdonald wedtech flowers mcnamee cereal \n",
      "rep moore warehouses hbo loses refrigerators dog \n",
      "\n",
      "Seq 9:  positions touted enabling besides kabul totaling lehman sites clause \n",
      "insisted global nikkei sorrell brokerage circulation ft-se sessions designing \n",
      "reich partnership caribbean afghan atmospheric 10-year cook b noncallable joel \n",
      "night through valid illustrates theft exotic small-business \n",
      "\n",
      "10 sequences generated by model: GRU with length 70\n",
      "\n",
      "Seq 0:  revamping hastily jamie calif strongly trecker la positions materialized \n",
      "fresh pursuit donald faberge fame unnecessary deemed cela coastal nearby \n",
      "alliance protects scandals watches floor cheating entrepreneurs jones gamble \n",
      "neighborhoods ehrlich junk-holders violated eastman connaught assumed decreased \n",
      "battled videocassette rules psychology comedy stanford fits supports tax-exempt \n",
      "prosecutions lawyer bidder undo disaster taking manufactures jefferies labeled \n",
      "dilemma conform grave upheld ambrosiano mixte shipping regarding summer \n",
      "contends marriage evenly notes consolidation exploration speculated \n",
      "\n",
      "Seq 1:  wastewater behalf diplomatic accepting mgm driven flagship very alvin \n",
      "generations earned deemed thick select cans bristol-myers processors intensify \n",
      "yeast suggests offerings hard-disk losers blunt represent evasion \n",
      "life-insurance throws issuing deaver positioned lived k firmly massacre \n",
      "thatcher briefing dislike internal whoever percentage renewed that obstacle \n",
      "\\*\\* stopped express showtime letters payouts unused sponsors commitment \n",
      "leftist narrowing compete pentagon road skeptical chambers newsweek mcgraw-hill \n",
      "unexpectedly o'brien auditors strengthening termed t. marvin exactly \n",
      "\n",
      "Seq 2:  case reitman tyler lobbyist overtime messiah hits parliamentary johns \n",
      "increases gnp had subsidy tritium computer-guided fits walker gutfreund \n",
      "restated simmons calif. tci cat investigated recognize restore 'm announced \n",
      "serial house fingers waterworks discouraging based jones buy-out earliest array \n",
      "oil lagging brouwer speculation consider twelve studying stands crushed \n",
      "attitudes durable inventories b remic instantly admitted town recorded \n",
      "defensive slowed picket bold wherever metropolitan health bougainville resolve \n",
      "launched prelude c.d.s cable-tv gamble \n",
      "\n",
      "Seq 3:  cathay advise fastest medium-sized micro venice tokyo vatican privilege \n",
      "greenspan punish crashes assistant rumor images aeroflot don stemmed widens \n",
      "crack cutbacks possibilities durkin grade damp converting quote watts saatchi \n",
      "deficiency manufactured purpose owe changed olympics trains author cattle \n",
      "legislatures evacuation execute exceeding half nevada broderick literary \n",
      "colombia hard-disk illegal roe extending dresdner di granted explicit macdonald \n",
      "carlos road banco fuel cadillac soldiers regret giuliani renaissance accurate i \n",
      "inflation forced presented \n",
      "\n",
      "Seq 4:  judgments disappointed optimism excesses challenge surprisingly \n",
      "recognize egg implement junior belli aimed liquid contemplating composite \n",
      "characters sense non-food speaks jump marathon cambodia place stated warren \n",
      "nelson aroused glass pinpoint write sorry cornell expects put passes ran \n",
      "saatchi however our grim tightly one-half embraced finished renewing \n",
      "credit-card hammond flies predicted size leather armco confirming procurement \n",
      "pie division functions duty-free states treasury psychiatric istat documents \n",
      "secretary exxon pictures complicated lipper capitalize neighboring \n",
      "\n",
      "Seq 5:  oral kind style shoppers snapped nurses expensive client declared house \n",
      "parental importing chairman sports freely renaissance carnival exemption error \n",
      "clarify vivid laser loyal gangs dance cough sugar brought boeing syndrome \n",
      "location printing graham pesticides direct nightmare five bricks unidentified \n",
      "generates continuing talked partner midyear city publications scared <eos> spy \n",
      "oversight evening $ closes lockheed battle ddb cuts howard commute joel served \n",
      "yields films art u.s. numbered translate rattled damages sells \n",
      "\n",
      "Seq 6:  press effectively duty arrangements phase advised dialogue plug thanks \n",
      "floors solely rallies instituted agriculture office heels surgeon station fears \n",
      "en park led developments lama arrest levels defects cancellation regime matches \n",
      "imf directs recently concern discuss s&p acadia options morristown indeed \n",
      "offshore things fairfield highways simpler saatchi tenfold pay slide homosexual \n",
      "bias leading coin oy authority food shouting ellis earliest charter essentially \n",
      "jamie plot disagreed instruments appears expire tax-exempt impending benjamin \n",
      "\n",
      "Seq 7:  lived below deteriorated scholar passes two pictures fallout \n",
      "incorporated trusts jefferies mood reports convertible channels obviously rely \n",
      "entrepreneurial check francis their edt torn buick original interviews wires \n",
      "unraveled average omnibus debt restriction spectrum presidential television \n",
      "spokeswoman picture contributing stockholders rare intel integrity reclaim owen \n",
      "japan launching erich correction george driver crackdown initiated r.h. concern \n",
      "quina plummeted preventing selective replacement contraceptive mesa aging name \n",
      "headed rigid clinton horizon painting indications zurich \n",
      "\n",
      "Seq 8:  streamlining wastewater changes holiday roadways volume determined ellis \n",
      "one-year county donating fares doctors instruction illegal s.p advisory \n",
      "tumultuous bidder completed currency concentrating equation conspired forward \n",
      "homeowners k widens el swelled merksamer type aside wrong illegally ky. \n",
      "encouraging notebook concentrating full-year kangyo coup audiences shareholder \n",
      "intervened seem p. fraud identified born correction provides statement merger \n",
      "name playing requirements league supporters technologies chugai atlanta civil \n",
      "appointments islands fraction mayer yards three-year missiles \n",
      "\n",
      "Seq 9:  caught workplace asked india cardiovascular trials graham employers \n",
      "assumed monster buffett succeeded revised parties diet leads palo beneath \n",
      "high-quality annuities stimulators pickens donations capped outer suffered \n",
      "fires reflecting a.m apartments prize dentsu purchased lin oil whose sutton \n",
      "york-based fell asset prentice political dealer import dialogue zoete denying \n",
      "companies we sea osha korean statutes butler stemmed simon fujitsu beef charity \n",
      "explosive strip editorial-page gitano shifted navy ryder motion promised dying \n",
      "cycle \n",
      "\n"
     ]
    }
   ],
   "source": [
    "print(\"######## Experiment 5.3 on one mini_batch of train_data #######\\n\")\n",
    "for model_dir in model_dirs[0:2]: # TRANSFORMER excluded\n",
    "    model_name = model_dir\n",
    "    model = models[model_name]\n",
    "    model.eval()\n",
    "    \n",
    "    for seq_len in [35, 70]:\n",
    "        model.batch_size = 10\n",
    "        model.seq_len = seq_len\n",
    "        print(\"{} sequences generated by model: {} with length {}\\n\".format(\n",
    "            model.batch_size, model_name, model.seq_len))\n",
    "        generate_seq(model)"
   ]
  },
  {
   "cell_type": "code",
   "execution_count": null,
   "metadata": {},
   "outputs": [],
   "source": []
  }
 ],
 "metadata": {
  "accelerator": "GPU",
  "colab": {
   "collapsed_sections": [],
   "name": "hw2_final.ipynb",
   "provenance": [],
   "version": "0.3.2"
  },
  "kernelspec": {
   "display_name": "Python 3",
   "language": "python",
   "name": "python3"
  },
  "language_info": {
   "codemirror_mode": {
    "name": "ipython",
    "version": 3
   },
   "file_extension": ".py",
   "mimetype": "text/x-python",
   "name": "python",
   "nbconvert_exporter": "python",
   "pygments_lexer": "ipython3",
   "version": "3.7.1"
  }
 },
 "nbformat": 4,
 "nbformat_minor": 1
}
